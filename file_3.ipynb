{
 "cells": [
  {
   "cell_type": "code",
   "execution_count": 212,
   "id": "b924f0e3",
   "metadata": {},
   "outputs": [],
   "source": [
    "import numpy as np\n",
    "import pandas as pd\n",
    "import matplotlib.pyplot as plt\n",
    "import math"
   ]
  },
  {
   "cell_type": "markdown",
   "id": "226e3f25",
   "metadata": {},
   "source": [
    "## making dataset"
   ]
  },
  {
   "cell_type": "code",
   "execution_count": 213,
   "id": "8ceb76b6",
   "metadata": {},
   "outputs": [],
   "source": [
    "m=23\n",
    "X_train=np.array([1,3,4,6,7,9,11,12,13,14,15,16,18,19,20,21,23,24,25,26,27,29,30]) \n",
    "X_test=np.array([2,5,8,10,17,22,28])\n",
    "\n",
    "def f(x):\n",
    "    return 4*(x**2)+3*x+2\n",
    "\n",
    "y_train= []\n",
    "\n",
    "for i in X_train:\n",
    "    y_train.append(f(i))\n",
    "\n",
    "y_test= []\n",
    "\n",
    "for i in X_test:\n",
    "    y_test.append(f(i))"
   ]
  },
  {
   "cell_type": "code",
   "execution_count": 214,
   "id": "6d3c2c4a",
   "metadata": {},
   "outputs": [
    {
     "data": {
      "image/png": "[encoded data removed]",
      "text/plain": [
       "<Figure size 432x288 with 1 Axes>"
      ]
     },
     "metadata": {
      "needs_background": "light"
     },
     "output_type": "display_data"
    }
   ],
   "source": [
    "plt.scatter(X_train,y_train, c= 'blue', alpha=.5)\n",
    "plt.xlabel(\"X\")\n",
    "plt.ylabel(\"Y\")\n",
    "plt.show()"
   ]
  },
  {
   "cell_type": "markdown",
   "id": "9940919c",
   "metadata": {},
   "source": [
    "## adding noise"
   ]
  },
  {
   "cell_type": "code",
   "execution_count": 215,
   "id": "48a03ea5",
   "metadata": {},
   "outputs": [],
   "source": [
    "mu, sigma= 0, 0.4\n",
    "noise= np.random.normal(mu, sigma, [23])\n",
    "\n",
    "for j in range(23):\n",
    "    y_train[j]= y_train[j]+noise[j]\n",
    "\n",
    "y_train=np.array(y_train)"
   ]
  },
  {
   "cell_type": "code",
   "execution_count": 216,
   "id": "e5961b4d",
   "metadata": {},
   "outputs": [
    {
     "data": {
      "image/png": "[encoded data removed]",
      "text/plain": [
       "<Figure size 432x288 with 1 Axes>"
      ]
     },
     "metadata": {
      "needs_background": "light"
     },
     "output_type": "display_data"
    }
   ],
   "source": [
    "plt.scatter(X_train,y_train, c= 'blue', alpha=.5)\n",
    "plt.xlabel(\"X\")\n",
    "plt.ylabel(\"Y\")\n",
    "plt.show()"
   ]
  },
  {
   "cell_type": "markdown",
   "id": "2c0eb11e",
   "metadata": {},
   "source": [
    "## regression"
   ]
  },
  {
   "cell_type": "code",
   "execution_count": 217,
   "id": "8355c9a4",
   "metadata": {},
   "outputs": [],
   "source": [
    "def h(X,w):\n",
    "    return (w[2]*(np.array(X[:])**2)+w[1]*np.array(X[:])+w[0])"
   ]
  },
  {
   "cell_type": "code",
   "execution_count": 218,
   "id": "a3f732ec",
   "metadata": {},
   "outputs": [],
   "source": [
    "def cost_4(w,X,y):\n",
    "    return (0.25/m) * np.sum(abs((h(X,w)-np.array(y))**4))"
   ]
  },
  {
   "cell_type": "code",
   "execution_count": 219,
   "id": "4621f96c",
   "metadata": {},
   "outputs": [],
   "source": [
    "def grad_4(w,X,y):\n",
    "    g = [0]*3\n",
    "    g[0] =(1/m) *np.sum((h(X,w)-np.array(y))**3)\n",
    "    g[1] = (1/m) * np.sum(((h(X,w)-np.array(y))**3)*np.array(X[:]))\n",
    "    g[2] = (1/m) * np.sum(((h(X,w)-np.array(y))**3)*((np.array(X[:])**2)))\n",
    "    return g"
   ]
  },
  {
   "cell_type": "code",
   "execution_count": 220,
   "id": "31e016a0",
   "metadata": {},
   "outputs": [],
   "source": [
    "def gradient_descent(w_new, w_prev, lr):\n",
    "    j=0\n",
    "    while True:\n",
    "        w_prev = w_new\n",
    "        w0 = w_prev[0] - lr*grad_4(w_prev,X_train,y_train)[0]\n",
    "        w1 = w_prev[1] - lr*grad_4(w_prev,X_train,y_train)[1]\n",
    "        w2 = w_prev[2] - lr*grad_4(w_prev,X_train,y_train)[2]\n",
    "        w_new = [w0, w1, w2]\n",
    "        if (w_new[0]-w_prev[0])**2 + (w_new[1]-w_prev[1])**2 + (w_new[2]-w_prev[2])**2 <= pow(10,-5):\n",
    "            return w_new\n",
    "        if j>200: \n",
    "            return w_new\n",
    "        j+=1"
   ]
  },
  {
   "cell_type": "code",
   "execution_count": 221,
   "id": "48af6e10",
   "metadata": {},
   "outputs": [],
   "source": [
    "w = [1,2,3]"
   ]
  },
  {
   "cell_type": "code",
   "execution_count": 222,
   "id": "e4154fb2",
   "metadata": {},
   "outputs": [],
   "source": [
    "w = gradient_descent(w,w,0.0000000000001)"
   ]
  },
  {
   "cell_type": "markdown",
   "id": "1996ac1e",
   "metadata": {},
   "source": [
    "## making graph"
   ]
  },
  {
   "cell_type": "code",
   "execution_count": 223,
   "id": "4267c84a",
   "metadata": {},
   "outputs": [
    {
     "data": {
      "image/png": "[encoded data removed]",
      "text/plain": [
       "<Figure size 432x288 with 1 Axes>"
      ]
     },
     "metadata": {
      "needs_background": "light"
     },
     "output_type": "display_data"
    }
   ],
   "source": [
    "def graph(formula, x_range):  \n",
    "    x = np.array(x_range)  \n",
    "    y = formula(x)  \n",
    "    plt.plot(x, y)  \n",
    "    \n",
    "def my_formula(x):\n",
    "    return w[0]+w[1]*x+ w[2]*(x**2)\n",
    "\n",
    "plt.scatter(X_train,y_train, c = \"red\",alpha=.5, marker = 'o')\n",
    "graph(my_formula, range(0,30))\n",
    "plt.xlabel('X')\n",
    "plt.ylabel('Y')\n",
    "plt.show()"
   ]
  },
  {
   "cell_type": "code",
   "execution_count": 224,
   "id": "2a55c36b",
   "metadata": {},
   "outputs": [],
   "source": [
    "y_pred=[]\n",
    "\n",
    "for i in X_test:\n",
    "    y_pred.append(my_formula(i))"
   ]
  },
  {
   "cell_type": "markdown",
   "id": "c9d2bbd0",
   "metadata": {},
   "source": [
    "## calculating error"
   ]
  },
  {
   "cell_type": "code",
   "execution_count": 225,
   "id": "42358d91",
   "metadata": {},
   "outputs": [],
   "source": [
    "def rmse(y_true, y_pred):\n",
    "    t=0\n",
    "    for i in y_true:\n",
    "        t+=1\n",
    "    sum=0\n",
    "    for i in range(t):\n",
    "        sum= (y_true[i]-y_pred[i])**2\n",
    "    sum=sum/t\n",
    "    return math.sqrt(sum)"
   ]
  },
  {
   "cell_type": "code",
   "execution_count": 226,
   "id": "2804bc8d",
   "metadata": {},
   "outputs": [
    {
     "data": {
      "text/plain": [
       "206.71740159671597"
      ]
     },
     "execution_count": 226,
     "metadata": {},
     "output_type": "execute_result"
    }
   ],
   "source": [
    "rmse(y_test, y_pred)"
   ]
  }
 ],
 "metadata": {
  "kernelspec": {
   "display_name": "Python 3",
   "language": "python",
   "name": "python3"
  },
  "language_info": {
   "codemirror_mode": {
    "name": "ipython",
    "version": 3
   },
   "file_extension": ".py",
   "mimetype": "text/x-python",
   "name": "python",
   "nbconvert_exporter": "python",
   "pygments_lexer": "ipython3",
   "version": "3.8.8"
  }
 },
 "nbformat": 4,
 "nbformat_minor": 5
}
