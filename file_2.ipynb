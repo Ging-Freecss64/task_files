{
 "cells": [
  {
   "cell_type": "code",
   "execution_count": 1,
   "id": "b4cd542e",
   "metadata": {},
   "outputs": [],
   "source": [
    "import numpy as np\n",
    "import pandas as pd\n",
    "import matplotlib.pyplot as plt\n",
    "import math"
   ]
  },
  {
   "cell_type": "markdown",
   "id": "f975b004",
   "metadata": {},
   "source": [
    "## making dataset"
   ]
  },
  {
   "cell_type": "code",
   "execution_count": 2,
   "id": "5a62d7dd",
   "metadata": {},
   "outputs": [],
   "source": [
    "m=23\n",
    "X_train=np.array([1,3,4,6,7,9,11,12,13,14,15,16,18,19,20,21,23,24,25,26,27,29,30]) \n",
    "X_test=np.array([2,5,8,10,17,22,28])\n",
    "\n",
    "def f(x):\n",
    "    return 3*x+2\n",
    "\n",
    "y_train= []\n",
    "\n",
    "for i in X_train:\n",
    "    y_train.append(f(i))\n",
    "\n",
    "y_test= []\n",
    "\n",
    "for i in X_test:\n",
    "    y_test.append(f(i))"
   ]
  },
  {
   "cell_type": "code",
   "execution_count": 3,
   "id": "e53a6595",
   "metadata": {},
   "outputs": [
    {
     "data": {
      "image/png": "[encoded data removed]",
      "text/plain": [
       "<Figure size 432x288 with 1 Axes>"
      ]
     },
     "metadata": {
      "needs_background": "light"
     },
     "output_type": "display_data"
    }
   ],
   "source": [
    "plt.scatter(X_train,y_train, c= 'blue', alpha=.5)\n",
    "plt.xlabel(\"X\")\n",
    "plt.ylabel(\"Y\")\n",
    "plt.show()"
   ]
  },
  {
   "cell_type": "markdown",
   "id": "e4ba0e21",
   "metadata": {},
   "source": [
    "## adding noise"
   ]
  },
  {
   "cell_type": "code",
   "execution_count": 4,
   "id": "349d2c94",
   "metadata": {},
   "outputs": [],
   "source": [
    "mu, sigma= 0, 1\n",
    "noise= np.random.normal(mu, sigma, [23])\n",
    "\n",
    "for j in range(23):\n",
    "    y_train[j]= y_train[j]+noise[j]\n",
    "\n",
    "y_train=np.array(y_train)"
   ]
  },
  {
   "cell_type": "code",
   "execution_count": 5,
   "id": "1f240fe2",
   "metadata": {},
   "outputs": [
    {
     "data": {
      "image/png": "[encoded data removed]",
      "text/plain": [
       "<Figure size 432x288 with 1 Axes>"
      ]
     },
     "metadata": {
      "needs_background": "light"
     },
     "output_type": "display_data"
    }
   ],
   "source": [
    "plt.scatter(X_train,y_train, c= 'blue', alpha=.5)\n",
    "plt.xlabel(\"X\")\n",
    "plt.ylabel(\"Y\")\n",
    "plt.show()"
   ]
  },
  {
   "cell_type": "markdown",
   "id": "5a8592fc",
   "metadata": {},
   "source": [
    "## regression"
   ]
  },
  {
   "cell_type": "code",
   "execution_count": 6,
   "id": "621cb434",
   "metadata": {},
   "outputs": [],
   "source": [
    "def h(X,w):\n",
    "    return (w[1]*np.array(X[:])+w[0])"
   ]
  },
  {
   "cell_type": "code",
   "execution_count": 7,
   "id": "13b8fc1c",
   "metadata": {},
   "outputs": [],
   "source": [
    "def cost_1(w,X,y):\n",
    "    return (1/m) * np.sum(abs((h(X,w)-np.array(y))))"
   ]
  },
  {
   "cell_type": "code",
   "execution_count": 8,
   "id": "7e9ca5c2",
   "metadata": {},
   "outputs": [],
   "source": [
    "def grad_1(w,X,y):\n",
    "    g = [0]*2\n",
    "    g[0] =1\n",
    "    g[1] = (1/m) * np.sum(np.array(X[:]))\n",
    "    return g"
   ]
  },
  {
   "cell_type": "code",
   "execution_count": 9,
   "id": "152dff58",
   "metadata": {},
   "outputs": [],
   "source": [
    "def gradient_descent(w_new, w_prev, lr):\n",
    "    j=0\n",
    "    while True:\n",
    "        w_prev = w_new\n",
    "        w0 = w_prev[0] - lr*grad_1(w_prev,X_train,y_train)[0]\n",
    "        w1 = w_prev[1] - lr*grad_1(w_prev,X_train,y_train)[1]\n",
    "        w_new = [w0, w1]\n",
    "        if (w_new[0]-w_prev[0])**2 + (w_new[1]-w_prev[1])**2 <= pow(10,-6):\n",
    "            return w_new\n",
    "        if j>200: \n",
    "            return w_new\n",
    "        j+=1"
   ]
  },
  {
   "cell_type": "code",
   "execution_count": 12,
   "id": "d041a7b3",
   "metadata": {},
   "outputs": [],
   "source": [
    "w = [1,2]"
   ]
  },
  {
   "cell_type": "code",
   "execution_count": 13,
   "id": "3b29e359",
   "metadata": {},
   "outputs": [
    {
     "name": "stdout",
     "output_type": "stream",
     "text": [
      "[0.9798000000000022, 1.6724086956521846]\n"
     ]
    }
   ],
   "source": [
    "w = gradient_descent(w,w,0.0001)\n",
    "print(w)"
   ]
  },
  {
   "cell_type": "markdown",
   "id": "14b495dd",
   "metadata": {},
   "source": [
    "## making graph"
   ]
  },
  {
   "cell_type": "code",
   "execution_count": 83,
   "id": "fb8bc620",
   "metadata": {},
   "outputs": [
    {
     "data": {
      "image/png": "[encoded data removed]",
      "text/plain": [
       "<Figure size 432x288 with 1 Axes>"
      ]
     },
     "metadata": {
      "needs_background": "light"
     },
     "output_type": "display_data"
    }
   ],
   "source": [
    "def graph(formula, x_range):  \n",
    "    x = np.array(x_range)  \n",
    "    y = formula(x)  \n",
    "    plt.plot(x, y)  \n",
    "    \n",
    "def my_formula(x):\n",
    "    return w[0]+w[1]*x\n",
    "\n",
    "plt.scatter(X_train,y_train, c = \"red\",alpha=.5, marker = 'o')\n",
    "graph(my_formula, range(0,30))\n",
    "plt.xlabel('X')\n",
    "plt.ylabel('Y')\n",
    "plt.show()"
   ]
  },
  {
   "cell_type": "code",
   "execution_count": 84,
   "id": "0b5b7f5b",
   "metadata": {},
   "outputs": [],
   "source": [
    "y_pred=[]\n",
    "\n",
    "for i in X_test:\n",
    "    y_pred.append(my_formula(i))"
   ]
  },
  {
   "cell_type": "markdown",
   "id": "37104a11",
   "metadata": {},
   "source": [
    "## calculating error"
   ]
  },
  {
   "cell_type": "code",
   "execution_count": 85,
   "id": "8425700d",
   "metadata": {},
   "outputs": [],
   "source": [
    "def rmse(y_true, y_pred):\n",
    "    t=0\n",
    "    for i in y_true:\n",
    "        t+=1\n",
    "    sum=0\n",
    "    for i in range(t):\n",
    "        sum= (y_true[i]-y_pred[i])**2\n",
    "    sum=sum/t\n",
    "    return math.sqrt(sum)"
   ]
  },
  {
   "cell_type": "code",
   "execution_count": 86,
   "id": "b92a55bb",
   "metadata": {},
   "outputs": [
    {
     "data": {
      "text/plain": [
       "35.97948005303481"
      ]
     },
     "execution_count": 86,
     "metadata": {},
     "output_type": "execute_result"
    }
   ],
   "source": [
    "rmse(y_test, y_pred)"
   ]
  }
 ],
 "metadata": {
  "kernelspec": {
   "display_name": "Python 3",
   "language": "python",
   "name": "python3"
  },
  "language_info": {
   "codemirror_mode": {
    "name": "ipython",
    "version": 3
   },
   "file_extension": ".py",
   "mimetype": "text/x-python",
   "name": "python",
   "nbconvert_exporter": "python",
   "pygments_lexer": "ipython3",
   "version": "3.8.8"
  }
 },
 "nbformat": 4,
 "nbformat_minor": 5
}
